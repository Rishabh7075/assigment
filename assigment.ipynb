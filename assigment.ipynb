{
 "cells": [
  {
   "cell_type": "markdown",
   "id": "35afb2b8-a8f7-44b1-9207-15f89d6f9546",
   "metadata": {},
   "source": [
    "Who developed Python Programming Language"
   ]
  }
 ],
 "metadata": {
  "kernelspec": {
   "display_name": "Python 3 (ipykernel)",
   "language": "python",
   "name": "python3"
  },
  "language_info": {
   "codemirror_mode": {
    "name": "ipython",
    "version": 3
   },
   "file_extension": ".py",
   "mimetype": "text/x-python",
   "name": "python",
   "nbconvert_exporter": "python",
   "pygments_lexer": "ipython3",
   "version": "3.10.8"
  }
 },
 "nbformat": 4,
 "nbformat_minor": 5
}
